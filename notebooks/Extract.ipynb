{
 "cells": [
  {
   "cell_type": "code",
   "execution_count": 1,
   "metadata": {},
   "outputs": [],
   "source": [
    "import seaborn as sns\n",
    "import metapack as mp\n",
    "import pandas as pd\n",
    "import numpy as np\n",
    "import matplotlib.pyplot as plt\n",
    "from IPython.display import display \n",
    "\n",
    "%matplotlib inline\n",
    "sns.set_context('notebook')\n",
    "mp.jupyter.init()\n"
   ]
  },
  {
   "cell_type": "code",
   "execution_count": 9,
   "metadata": {},
   "outputs": [
    {
     "data": {
      "text/html": [
       "<p><code>civicknowledge.com-parcels-san_diego-demosearch-1.1.1</code> Last Update: 2021-10-29T01:17:51</p>\n",
       "<p>__</p>\n",
       "<h2>Documentation Links</h2>\n",
       "<ul>\n",
       "<li><a href=\"docs/Parcels.pdf\">Parcels documentation</a> </li>\n",
       "</ul>\n",
       "<h2>Contacts</h2>\n",
       "<ul>\n",
       "<li><strong>Wrangler</strong> <a href=\"mailto:eric@civicknowledge.com\">Eric Busboom</a>, <a href=\"http://civicknowledge.com\">Civic Knowledge</a></li>\n",
       "<li><strong>Creator</strong> SANGIS, <a href=\"https://www.sandag.org/\">https://www.sandag.org/</a></li>\n",
       "</ul>\n",
       "<h2>References</h2>\n",
       "<ul><li> <strong>parcels_source</string>, <em>shape+file:data/Parcels.zip</em>. </li><ul>"
      ],
      "text/plain": [
       "\n",
       "`civicknowledge.com-parcels-san_diego-demosearch-1.1.1` Last Update: 2021-10-29T01:17:51\n",
       "\n",
       "__\n",
       "\n",
       "\n",
       "## Documentation Links\n",
       "\n",
       "* [Parcels documentation](docs/Parcels.pdf) \n",
       "\n",
       " \n",
       "\n",
       "## Contacts\n",
       "\n",
       "* **Wrangler** [Eric Busboom](mailto:eric@civicknowledge.com), [Civic Knowledge](http://civicknowledge.com)\n",
       "* **Creator** SANGIS, [https://www.sandag.org/](https://www.sandag.org/)\n",
       "\n",
       "\n",
       "## References\n",
       "<ul><li> <strong>parcels_source</string>, <em>shape+file:data/Parcels.zip</em>. </li><ul>\n"
      ]
     },
     "execution_count": 9,
     "metadata": {},
     "output_type": "execute_result"
    }
   ],
   "source": [
    "#pkg = mp.jupyter.open_package()\n",
    "pkg = mp.jupyter.open_source_package()\n",
    "pkg"
   ]
  },
  {
   "cell_type": "code",
   "execution_count": 3,
   "metadata": {},
   "outputs": [],
   "source": [
    "ps = pkg.reference('parcels_source').geoframe()"
   ]
  },
  {
   "cell_type": "code",
   "execution_count": 14,
   "metadata": {},
   "outputs": [
    {
     "data": {
      "text/html": [
       "<div>\n",
       "<style scoped>\n",
       "    .dataframe tbody tr th:only-of-type {\n",
       "        vertical-align: middle;\n",
       "    }\n",
       "\n",
       "    .dataframe tbody tr th {\n",
       "        vertical-align: top;\n",
       "    }\n",
       "\n",
       "    .dataframe thead th {\n",
       "        text-align: right;\n",
       "    }\n",
       "</style>\n",
       "<table border=\"1\" class=\"dataframe\">\n",
       "  <thead>\n",
       "    <tr style=\"text-align: right;\">\n",
       "      <th></th>\n",
       "      <th>lu_zone</th>\n",
       "      <th>lu_code</th>\n",
       "      <th>geometry</th>\n",
       "    </tr>\n",
       "  </thead>\n",
       "  <tbody>\n",
       "    <tr>\n",
       "      <th>0</th>\n",
       "      <td>10</td>\n",
       "      <td>193</td>\n",
       "      <td>POLYGON ((6317797.117 1823132.802, 6317792.277...</td>\n",
       "    </tr>\n",
       "    <tr>\n",
       "      <th>1</th>\n",
       "      <td>10</td>\n",
       "      <td>110</td>\n",
       "      <td>POLYGON ((6350333.003 1860877.683, 6350650.000...</td>\n",
       "    </tr>\n",
       "    <tr>\n",
       "      <th>2</th>\n",
       "      <td>10</td>\n",
       "      <td>110</td>\n",
       "      <td>POLYGON ((6350592.997 1861747.741, 6350659.001...</td>\n",
       "    </tr>\n",
       "    <tr>\n",
       "      <th>3</th>\n",
       "      <td>70</td>\n",
       "      <td>400</td>\n",
       "      <td>POLYGON ((6306744.000 1952596.000, 6306364.719...</td>\n",
       "    </tr>\n",
       "    <tr>\n",
       "      <th>4</th>\n",
       "      <td>10</td>\n",
       "      <td>100</td>\n",
       "      <td>POLYGON ((6304406.928 1847039.486, 6304405.187...</td>\n",
       "    </tr>\n",
       "  </tbody>\n",
       "</table>\n",
       "</div>"
      ],
      "text/plain": [
       "  lu_zone lu_code                                           geometry\n",
       "0      10     193  POLYGON ((6317797.117 1823132.802, 6317792.277...\n",
       "1      10     110  POLYGON ((6350333.003 1860877.683, 6350650.000...\n",
       "2      10     110  POLYGON ((6350592.997 1861747.741, 6350659.001...\n",
       "3      70     400  POLYGON ((6306744.000 1952596.000, 6306364.719...\n",
       "4      10     100  POLYGON ((6304406.928 1847039.486, 6304405.187..."
      ]
     },
     "execution_count": 14,
     "metadata": {},
     "output_type": "execute_result"
    }
   ],
   "source": [
    "luz = ps[['NUCLEUS_ZO', 'NUCLEUS_US', 'geometry']]\\\n",
    "    .rename(columns={'NUCLEUS_ZO':'lu_zone', 'NUCLEUS_US': 'lu_code'})\n",
    "luz.head()"
   ]
  },
  {
   "cell_type": "code",
   "execution_count": null,
   "metadata": {},
   "outputs": [],
   "source": []
  }
 ],
 "metadata": {
  "kernelspec": {
   "display_name": "Python 3",
   "language": "python",
   "name": "python3"
  },
  "language_info": {
   "codemirror_mode": {
    "name": "ipython",
    "version": 3
   },
   "file_extension": ".py",
   "mimetype": "text/x-python",
   "name": "python",
   "nbconvert_exporter": "python",
   "pygments_lexer": "ipython3",
   "version": "3.8.8"
  }
 },
 "nbformat": 4,
 "nbformat_minor": 4
}
